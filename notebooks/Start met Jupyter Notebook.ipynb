{
 "cells": [
  {
   "cell_type": "markdown",
   "id": "79e6c6a6",
   "metadata": {},
   "source": [
    "# P1.1 Kennismaking met  Jupyter Notebooks"
   ]
  },
  {
   "cell_type": "markdown",
   "id": "79106761",
   "metadata": {},
   "source": [
    "<img src=\"python_logo.svg\" heigth=60 width=200 />"
   ]
  },
  {
   "cell_type": "markdown",
   "id": "3634d0f4",
   "metadata": {},
   "source": [
    "In deze notebook:\n",
    "- jupyter leren kennen\n",
    "- cli binnen jupyter\n",
    "- methoden aanroepen en magics\n",
    "- locale bestanden \n",
    "- bewaren en openen\n",
    "- datum afdrukken\n",
    "- functies maken met documentatie"
   ]
  },
  {
   "cell_type": "markdown",
   "id": "0a9397f0",
   "metadata": {},
   "source": [
    "<div class=\"alert alert-block alert-info\">\n",
    "<b>Read the docs</b>: https://jupyter-notebook.readthedocs.io/en/stable/examples/Notebook/Notebook%20Basics.html\n",
    "</div>"
   ]
  },
  {
   "cell_type": "markdown",
   "id": "d565461f",
   "metadata": {},
   "source": [
    "### package installeren via Jupyter"
   ]
  },
  {
   "cell_type": "markdown",
   "id": "eea58837",
   "metadata": {},
   "source": [
    "<code>!pip packagename</code>"
   ]
  },
  {
   "cell_type": "code",
   "execution_count": null,
   "id": "45039bc0",
   "metadata": {},
   "outputs": [],
   "source": [
    "#!pip beautifulsoup4"
   ]
  },
  {
   "cell_type": "code",
   "execution_count": null,
   "id": "9a86b3f4",
   "metadata": {},
   "outputs": [],
   "source": []
  },
  {
   "cell_type": "markdown",
   "id": "8e58c1f1",
   "metadata": {},
   "source": [
    "## Magics "
   ]
  },
  {
   "cell_type": "markdown",
   "id": "465aa5da",
   "metadata": {},
   "source": [
    "<p>#reload je code</p>\n",
    "<code>%load_ext autoreload \n",
    "%autoreload 2</code>\n",
    "<p># save je notebook elke 200 seconden</p>\n",
    "<code>%autosave 200</code> "
   ]
  },
  {
   "cell_type": "code",
   "execution_count": null,
   "id": "c7f5ec4d",
   "metadata": {},
   "outputs": [],
   "source": [
    "#%autosave 200\n",
    "#Reload changes\n",
    "#%load_ext autoreload\n",
    "#%autoreload 2"
   ]
  },
  {
   "cell_type": "code",
   "execution_count": null,
   "id": "a360cdb8",
   "metadata": {},
   "outputs": [],
   "source": [
    "## you can inspect the autosave code to see what it does.\n",
    "#%autosave??"
   ]
  },
  {
   "cell_type": "markdown",
   "id": "c8cc9471",
   "metadata": {},
   "source": [
    "### Met locale bestanden werken"
   ]
  },
  {
   "cell_type": "code",
   "execution_count": null,
   "id": "84c4cf80",
   "metadata": {},
   "outputs": [],
   "source": [
    "#Lijst van je local dir"
   ]
  },
  {
   "cell_type": "code",
   "execution_count": null,
   "id": "595c5133",
   "metadata": {},
   "outputs": [],
   "source": [
    "!ls"
   ]
  },
  {
   "cell_type": "code",
   "execution_count": null,
   "id": "2fe497b8",
   "metadata": {},
   "outputs": [],
   "source": [
    "#probeer nu tab te gebruiken om methodes te zien\n",
    "os. #druk op tab, "
   ]
  },
  {
   "cell_type": "code",
   "execution_count": null,
   "id": "6a64bba8",
   "metadata": {},
   "outputs": [],
   "source": [
    "os.getcwd()"
   ]
  },
  {
   "cell_type": "code",
   "execution_count": null,
   "id": "c3af803c",
   "metadata": {},
   "outputs": [],
   "source": [
    "import os\n",
    "folder = 'data/'\n",
    "files = os.listdir(folder) #lijst [] van bestanden \n",
    "files"
   ]
  },
  {
   "cell_type": "markdown",
   "id": "2f2b8c89",
   "metadata": {},
   "source": [
    "### Bewaren van bestanden"
   ]
  },
  {
   "cell_type": "code",
   "execution_count": null,
   "id": "0ddbe729",
   "metadata": {},
   "outputs": [],
   "source": [
    "save_file=\"resultaat.txt\"\n",
    "with open(os.path.join(folder,save_file), \"w\") as file1:\n",
    "    toFile = input(\"Wat is je resultaat \")\n",
    "    file1.write(toFile)"
   ]
  },
  {
   "cell_type": "markdown",
   "id": "6408731e",
   "metadata": {},
   "source": [
    "### Open bewaard bestand"
   ]
  },
  {
   "cell_type": "code",
   "execution_count": null,
   "id": "8cf82bd9",
   "metadata": {},
   "outputs": [],
   "source": [
    "with open(os.path.join(folder,\"resultaat.txt\"), \"r\") as file2:\n",
    "    print(file2.read())\n"
   ]
  },
  {
   "cell_type": "code",
   "execution_count": null,
   "id": "7671d8e7",
   "metadata": {},
   "outputs": [],
   "source": [
    "#for bestanden met meer regels\n",
    "with open(\"data/links/Videos.html\", encoding='utf8') as f:\n",
    "    for line in f:\n",
    "        print(line.strip())"
   ]
  },
  {
   "cell_type": "code",
   "execution_count": null,
   "id": "7da01fe6",
   "metadata": {},
   "outputs": [],
   "source": [
    "# resultaten in een andere map\n",
    "#nieuwe map aanmaken\n",
    "current_directory = os.getcwd()\n",
    "output_folder = current_directory + \"/output/\"\n",
    "os.makedirs(output_folder)"
   ]
  },
  {
   "cell_type": "code",
   "execution_count": null,
   "id": "e923c94f",
   "metadata": {},
   "outputs": [],
   "source": [
    "filename =\"resultaat.txt\"\n",
    "if not os.path.exists(output_folder):\n",
    "    os.makedirs(output_folder)\n",
    "\n",
    "with open(os.path.join(output_folder,filename), \"w\") as file1:\n",
    "    toFile = input(\"Wat is je resultaat \")\n",
    "    file1.write(toFile)"
   ]
  },
  {
   "cell_type": "markdown",
   "id": "34506c1a",
   "metadata": {},
   "source": [
    "### Datum afdrukken"
   ]
  },
  {
   "cell_type": "code",
   "execution_count": null,
   "id": "2917bc90",
   "metadata": {},
   "outputs": [],
   "source": [
    "# set datum format\n",
    "from datetime import datetime\n",
    "FORMAT = '%d-%m-%Y_%H:%M'\n",
    "timestamp = datetime.now().strftime(FORMAT)\n",
    "timestamp"
   ]
  },
  {
   "cell_type": "markdown",
   "id": "57ef2310",
   "metadata": {},
   "source": [
    "## Functies maken"
   ]
  },
  {
   "cell_type": "markdown",
   "id": "193450b1",
   "metadata": {},
   "source": [
    "https://realpython.com/documenting-python-code/"
   ]
  },
  {
   "cell_type": "code",
   "execution_count": 78,
   "id": "b3cbc5f1",
   "metadata": {},
   "outputs": [],
   "source": [
    "# voorbeeld van een functie\n",
    "def save(filename, save_map=\"output\"):\n",
    "    \n",
    "    \"\"\"\n",
    "    Bewaart een bestand in een map, als map niet bestaat wordt het aangemakt\n",
    "    Parameters\n",
    "        ----------\n",
    "        filename : str\n",
    "            Naam bestand dat bewaard wordt\n",
    "        save_map : str\n",
    "            Naam bewaarmap, default is output\n",
    "    \n",
    "    \"\"\"\n",
    "    FORMAT = '%d-%m-%Y_%H%M'\n",
    "    timestamp = datetime.now().strftime(FORMAT)\n",
    "    # huidige directory\n",
    "    current_directory = os.getcwd()\n",
    "    # create path\n",
    "    output_folder = current_directory +\"/\"+ save_map\n",
    "    #check of map bestaat\n",
    "    if not os.path.exists(output_folder):\n",
    "        os.makedirs(output_folder)\n",
    "    # bewaar\n",
    "    try:\n",
    "        with open(os.path.join(output_folder,filename), \"w\") as file1:\n",
    "            toFile = input(\"Wat is je resultaat \") ## hier gaat je data\n",
    "            file1.write(toFile)\n",
    "    except Exception as exception:\n",
    "            print(\"Cannot save file\")\n",
    "            print(\"Exception: {}\".format(type(exception).__name__))\n",
    "            print(\"Exception message: {}\".format(exception))\n",
    "        \n",
    "\n",
    "    print(\"{} is bewaard in {} op {}\".format(filename, output_folder, timestamp))"
   ]
  },
  {
   "cell_type": "code",
   "execution_count": 79,
   "id": "acfff271",
   "metadata": {},
   "outputs": [
    {
     "name": "stdout",
     "output_type": "stream",
     "text": [
      "Wat is je resultaat test\n",
      "resultaat.txt is bewaard in /home/fosint/Repo/cursus/notebooks/resultaten op 15-04-2023_1711\n"
     ]
    }
   ],
   "source": [
    "save(\"resultaat.txt\", 'resultaten')"
   ]
  },
  {
   "cell_type": "code",
   "execution_count": null,
   "id": "e3124a31",
   "metadata": {},
   "outputs": [],
   "source": [
    "# Opdracht:\n",
    "# verbeter de functie zodat je een bestand of een string kan bewaren i.p.v. input text\n",
    "# bewaar deze in een utils.py tekstbestand in de hoofddirectory"
   ]
  }
 ],
 "metadata": {
  "kernelspec": {
   "display_name": "Python 3 (ipykernel)",
   "language": "python",
   "name": "python3"
  },
  "language_info": {
   "codemirror_mode": {
    "name": "ipython",
    "version": 3
   },
   "file_extension": ".py",
   "mimetype": "text/x-python",
   "name": "python",
   "nbconvert_exporter": "python",
   "pygments_lexer": "ipython3",
   "version": "3.10.8"
  }
 },
 "nbformat": 4,
 "nbformat_minor": 5
}
