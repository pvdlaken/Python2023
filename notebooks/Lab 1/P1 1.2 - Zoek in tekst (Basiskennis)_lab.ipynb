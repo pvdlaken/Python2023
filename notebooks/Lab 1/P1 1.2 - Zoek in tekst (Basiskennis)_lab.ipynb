{
 "cells": [
  {
   "cell_type": "markdown",
   "id": "07203efc",
   "metadata": {},
   "source": [
    "# P1 1.2 Webtekst scrapen "
   ]
  },
  {
   "cell_type": "markdown",
   "id": "ce61baa9",
   "metadata": {},
   "source": [
    "# Lab 1:  werken met tekst"
   ]
  },
  {
   "cell_type": "markdown",
   "id": "50d0d6ff",
   "metadata": {},
   "source": [
    "### Opdracht: een collega vraagt of je een overzicht wil maken van welke woorden in een website voorkomen en hoe vaak"
   ]
  },
  {
   "cell_type": "markdown",
   "id": "2948432a",
   "metadata": {},
   "source": [
    "Waar begin je? In deze tutorial beginnen we bottom-up en werken vanaf een klein voorbeeld tekst en daarna zullen deze functies uitbreiden in een scrape module. Maar je kunt beginnen ook vanaf het dowloaden van de html, net wat je liever hebt."
   ]
  },
  {
   "cell_type": "markdown",
   "id": "af804d27",
   "metadata": {},
   "source": [
    " "
   ]
  },
  {
   "cell_type": "markdown",
   "id": "54a73cd0",
   "metadata": {},
   "source": [
    "<h2> Stap1: Tekst normaliseren: </h2> \n",
    "<p>Om te werken met tekst, is het slim om tekens, hoofdletters en dergelijke te verwijderen/vervangen.\n",
    "   Om dit te doen heb je aantal methodes nodig, hieronder een lijst van nuttige methodes:</p>\n",
    "<ul>\n",
    "    <li>tekst in kleine letters--> <code>string.lower()</code></li>\n",
    "    <li>tekens verwijderen handmatig --> <code>string.replace()</code></li>\n",
    "    <li>tekens verwijderen met regex--> <code>re.sub(pattern, replacement, string, count=0, flags=0)</code></li>   \n",
    "    <li>lijst van woorden krijgen -->  <code>string.split()</code></li>\n",
    "    <li>herhalingen weghalen-->  <code>set()</code></li>\n",
    "    <li>tellen van aantal voorkomens in string -->  <code>string.count(substring, start=..., end=...)</code></li>\n",
    "    "
   ]
  },
  {
   "cell_type": "markdown",
   "id": "7cce4f72",
   "metadata": {},
   "source": [
    "### begin altijd met een klein testgeval"
   ]
  },
  {
   "cell_type": "code",
   "execution_count": null,
   "id": "2da9f159",
   "metadata": {},
   "outputs": [],
   "source": [
    "text =\"Scrapen (Engels: web scraping) is een computertechniek waarbij software wordt gebruikt om informatie van webpagina's te extraheren en al dan niet te analyseren. Meestal probeert de software een deel van het world wide web te onderzoeken via gebruik van het op codes gebaseerde Hypertext Transfer Protocol (HTTP), of door het surfgedrag met een webbrowser zoals Mozilla Firefox te simuleren.\"\n",
    "text"
   ]
  },
  {
   "cell_type": "markdown",
   "id": "591e5d6b",
   "metadata": {},
   "source": [
    "### Alles in kleine letters "
   ]
  },
  {
   "cell_type": "code",
   "execution_count": null,
   "id": "1c0418be",
   "metadata": {},
   "outputs": [],
   "source": [
    "# Convert to kleine letters met lower()\n"
   ]
  },
  {
   "cell_type": "code",
   "execution_count": null,
   "id": "bda1a426",
   "metadata": {},
   "outputs": [],
   "source": [
    "# hoe vaak komt het woord 'en' voor? Gebruik string.count()"
   ]
  },
  {
   "cell_type": "markdown",
   "id": "8291a78a",
   "metadata": {},
   "source": [
    "### Andere tekens verwijderen (methode 1)"
   ]
  },
  {
   "cell_type": "code",
   "execution_count": null,
   "id": "c8297fbe",
   "metadata": {},
   "outputs": [],
   "source": [
    "# verwijder alle , en .\n"
   ]
  },
  {
   "cell_type": "code",
   "execution_count": null,
   "id": "99575e0f",
   "metadata": {},
   "outputs": [],
   "source": [
    "# chaining van methodes: gebruik replace en split achter elkaar \n"
   ]
  },
  {
   "cell_type": "markdown",
   "id": "d9a01ebb",
   "metadata": {},
   "source": [
    "### Andere tekens verwijderen met reguliere expressie (methode 2)"
   ]
  },
  {
   "cell_type": "code",
   "execution_count": null,
   "id": "14c87d22",
   "metadata": {},
   "outputs": [],
   "source": [
    "import re\n",
    "#https://docs.python.org/3/library/re.html\n",
    "#re.sub(pattern, replacement, string, count=0, flags=0)\n",
    "# Gebruik reguliere expressie r\"[^a-zA-Z0-9]\" = vervang alles wat niet letters en nummers is\n",
    "\n",
    "# Remove punctuation characters\n",
    "text = \n",
    "print(text)"
   ]
  },
  {
   "cell_type": "markdown",
   "id": "0f849795",
   "metadata": {},
   "source": [
    "## Stap 2: Frequentie van woorden in tekst"
   ]
  },
  {
   "cell_type": "code",
   "execution_count": null,
   "id": "e4996731",
   "metadata": {},
   "outputs": [],
   "source": [
    "#met for loop\n",
    "woordenlijst = []\n",
    "woorden = text.split()\n",
    "\n",
    "# schrijf een for loop waarin alle woorden in een lijst zet \n",
    "\n"
   ]
  },
  {
   "cell_type": "code",
   "execution_count": null,
   "id": "36dc3d94",
   "metadata": {},
   "outputs": [],
   "source": [
    "# gevorderden\n",
    "# schrijf een for loop waarin alle woorden in een dictionary zet in de form {'woord': 1}\n",
    "\n",
    "counts = dict()\n"
   ]
  },
  {
   "cell_type": "code",
   "execution_count": null,
   "id": "e0c8a7e5",
   "metadata": {},
   "outputs": [],
   "source": [
    "# gevorderden\n",
    "# nu met een aantal keer dat ze voorkomen"
   ]
  },
  {
   "cell_type": "code",
   "execution_count": null,
   "id": "4942b098",
   "metadata": {},
   "outputs": [],
   "source": [
    "# van dictionary naar lijst converteren:"
   ]
  },
  {
   "cell_type": "markdown",
   "id": "38a2035f",
   "metadata": {},
   "source": [
    "## Stap 3: functie samenstellen"
   ]
  },
  {
   "cell_type": "code",
   "execution_count": 2,
   "id": "7b573c18",
   "metadata": {},
   "outputs": [],
   "source": [
    "#maak een functie die een tekst bewerkt en een dictionary returneert met de meeste frequente woorden\n",
    "# voeg deze functie aan je utils.py\n",
    "\n",
    "def woordenteller(text):\n",
    "    # Convert to lowercase\n",
    "\n",
    "    # Verwijder tekens\n",
    "\n",
    "    # maak een dictionary\n",
    "\n",
    "    #sorteer\n",
    "\n",
    "    #return resultaat\n",
    "    return sorted_dict"
   ]
  },
  {
   "cell_type": "markdown",
   "id": "89bce437",
   "metadata": {},
   "source": [
    "### 2. Extra: welke woorden komen in deze tekst het vaakst voor?"
   ]
  },
  {
   "cell_type": "code",
   "execution_count": null,
   "id": "f798cc78",
   "metadata": {},
   "outputs": [],
   "source": [
    "# Eerst gebruik sorted method met de keys en daarna voeg values toe\n",
    "# sorted(iterable, key=key, reverse=reverse)\n",
    "sorted_dict = {}\n",
    "sorted_keys = sorted(counts, key=counts.get, reverse=True)  # reverse = hoogste eerst\n",
    "\n",
    "for w in sorted_keys:\n",
    "    sorted_dict[w] = counts2[w]\n",
    "\n",
    "#sorted_dict"
   ]
  },
  {
   "cell_type": "code",
   "execution_count": null,
   "id": "990bceb9",
   "metadata": {},
   "outputs": [],
   "source": [
    "# met for loop\n",
    "meest_frequent=dict()\n",
    "for (key, value) in counts.items():\n",
    "    if value >= 2:\n",
    "        meest_frequent[key]=value\n",
    "\n",
    "#compacte versie:\n",
    "#meest_frequent = {key:value for (key, value) in counts2.items() if value >= 2}\n"
   ]
  },
  {
   "cell_type": "code",
   "execution_count": null,
   "id": "6bdd4b9a",
   "metadata": {},
   "outputs": [],
   "source": [
    "#test je functie\n",
    "woordenteller(text)"
   ]
  },
  {
   "cell_type": "markdown",
   "id": "8243449e",
   "metadata": {},
   "source": [
    "### Opdracht 2: zoektermen in de tekst zoeken en hoe vaak"
   ]
  },
  {
   "cell_type": "markdown",
   "id": "79dc9250",
   "metadata": {},
   "source": [
    "\n"
   ]
  },
  {
   "cell_type": "code",
   "execution_count": 1,
   "id": "ef0d986f",
   "metadata": {},
   "outputs": [],
   "source": [
    "zoektermen=['zoekterm1', 'zoekterm2', 'zoekterm3']"
   ]
  },
  {
   "cell_type": "code",
   "execution_count": null,
   "id": "dac2a684",
   "metadata": {},
   "outputs": [],
   "source": [
    "#probeer zelf een oplossing te bedenken..."
   ]
  },
  {
   "cell_type": "code",
   "execution_count": null,
   "id": "e9a4cebd",
   "metadata": {},
   "outputs": [],
   "source": []
  }
 ],
 "metadata": {
  "kernelspec": {
   "display_name": "Python 3 (ipykernel)",
   "language": "python",
   "name": "python3"
  },
  "language_info": {
   "codemirror_mode": {
    "name": "ipython",
    "version": 3
   },
   "file_extension": ".py",
   "mimetype": "text/x-python",
   "name": "python",
   "nbconvert_exporter": "python",
   "pygments_lexer": "ipython3",
   "version": "3.10.8"
  }
 },
 "nbformat": 4,
 "nbformat_minor": 5
}
