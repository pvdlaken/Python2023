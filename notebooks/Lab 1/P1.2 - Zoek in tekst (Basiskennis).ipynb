{
 "cells": [
  {
   "cell_type": "markdown",
   "id": "07203efc",
   "metadata": {},
   "source": [
    "# P1 1.2 Webtekst scrapen - stap 1: text formatting en woordenlijsten maken"
   ]
  },
  {
   "cell_type": "markdown",
   "id": "50d0d6ff",
   "metadata": {},
   "source": [
    "### Opdracht: een collega vraagt of je een overzicht wil maken van welke woorden in een website voorkomen en hoe vaak"
   ]
  },
  {
   "cell_type": "markdown",
   "id": "54a73cd0",
   "metadata": {},
   "source": [
    "<h2> Stap1: Tekst normaliseren: </h2> \n",
    "<p>Om te werken met tekst, is het slim om tekens, hoofdletters en dergelijke te verwijderen/vervangen.\n",
    "   Om dit te doen heb je aantal methodes nodig, hieronder een lijst van nuttige methodes:</p>\n",
    "<ul>\n",
    "    <li>tekst in kleine letters--> <code>string.lower()</code></li>\n",
    "    <li>tekens verwijderen handmatig --> <code>string.replace()</code></li>\n",
    "    <li>tekens verwijderen met regex--> <code>re.sub(pattern, replacement, string, count=0, flags=0)</code></li>   \n",
    "    <li>lijst van woorden krijgen -->  <code>string.split()</code></li>\n",
    "    <li>herhalingen weghalen-->  <code>set()</code></li>\n",
    "    <li>tellen van aantal voorkomens in string -->  <code>string.count(substring, start=..., end=...)</code></li>\n",
    "    "
   ]
  },
  {
   "cell_type": "code",
   "execution_count": 9,
   "id": "cbbfa79e",
   "metadata": {},
   "outputs": [],
   "source": [
    "#imports altijd bovenaan\n",
    "import re"
   ]
  },
  {
   "cell_type": "markdown",
   "id": "7cce4f72",
   "metadata": {},
   "source": [
    "### Eerst een klein testgeval"
   ]
  },
  {
   "cell_type": "markdown",
   "id": "a33735eb",
   "metadata": {},
   "source": [
    "Link: https://nl.wikipedia.org/wiki/Scrapen"
   ]
  },
  {
   "cell_type": "code",
   "execution_count": 146,
   "id": "91b0c210",
   "metadata": {},
   "outputs": [
    {
     "data": {
      "text/plain": [
       "\"Scrapen (Engels: web scraping) is een computertechniek waarbij software wordt gebruikt om informatie van webpagina's te extraheren en al dan niet te analyseren. Meestal probeert de software een deel van het world wide web te onderzoeken via gebruik van het op codes gebaseerde Hypertext Transfer Protocol (HTTP), of door het surfgedrag met een webbrowser zoals Mozilla Firefox te simuleren.\""
      ]
     },
     "execution_count": 146,
     "metadata": {},
     "output_type": "execute_result"
    }
   ],
   "source": [
    "text =\"Scrapen (Engels: web scraping) is een computertechniek waarbij software wordt gebruikt om informatie van webpagina's te extraheren en al dan niet te analyseren. Meestal probeert de software een deel van het world wide web te onderzoeken via gebruik van het op codes gebaseerde Hypertext Transfer Protocol (HTTP), of door het surfgedrag met een webbrowser zoals Mozilla Firefox te simuleren.\"\n",
    "text"
   ]
  },
  {
   "cell_type": "markdown",
   "id": "591e5d6b",
   "metadata": {},
   "source": [
    "### Alles in kleine letters "
   ]
  },
  {
   "cell_type": "code",
   "execution_count": 31,
   "id": "1c0418be",
   "metadata": {},
   "outputs": [],
   "source": [
    "# Convert to lowercase\n",
    "text = text.lower() \n",
    "#print(text)"
   ]
  },
  {
   "cell_type": "code",
   "execution_count": 32,
   "id": "0573c1c4",
   "metadata": {},
   "outputs": [
    {
     "data": {
      "text/plain": [
       "10"
      ]
     },
     "execution_count": 32,
     "metadata": {},
     "output_type": "execute_result"
    }
   ],
   "source": [
    "# hoe vaak komt het woord 'en' voor? Gebruik string.count()\n",
    "text.count('en')"
   ]
  },
  {
   "cell_type": "markdown",
   "id": "8291a78a",
   "metadata": {},
   "source": [
    "### Andere tekens verwijderen (methode 1)"
   ]
  },
  {
   "cell_type": "code",
   "execution_count": 185,
   "id": "c8297fbe",
   "metadata": {},
   "outputs": [
    {
     "name": "stdout",
     "output_type": "stream",
     "text": [
      "scrapen engels: web scraping is een computertechniek waarbij software wordt gebruikt om informatie van webpagina's te extraheren en al dan niet te analyseren  meestal probeert de software een deel van het world wide web te onderzoeken via gebruik van het op codes gebaseerde hypertext transfer protocol http of door het surfgedrag met een webbrowser zoals mozilla firefox te simuleren \n"
     ]
    }
   ],
   "source": [
    "# tekst formatteren\n",
    "text = text.replace(\",\", \"\").replace(\".\", \" \").replace(\")\", \"\").replace(\"(\", \"\")\n",
    "print(text)"
   ]
  },
  {
   "cell_type": "code",
   "execution_count": 186,
   "id": "741d6ec3",
   "metadata": {},
   "outputs": [],
   "source": [
    "text_lijst=text.split()"
   ]
  },
  {
   "cell_type": "code",
   "execution_count": 187,
   "id": "99c72505",
   "metadata": {},
   "outputs": [
    {
     "data": {
      "text/plain": [
       "1"
      ]
     },
     "execution_count": 187,
     "metadata": {},
     "output_type": "execute_result"
    }
   ],
   "source": [
    "text_lijst.count('en')"
   ]
  },
  {
   "cell_type": "markdown",
   "id": "d9a01ebb",
   "metadata": {},
   "source": [
    "### Andere tekens verwijderen met reguliere expressie"
   ]
  },
  {
   "cell_type": "code",
   "execution_count": 154,
   "id": "14c87d22",
   "metadata": {},
   "outputs": [
    {
     "name": "stdout",
     "output_type": "stream",
     "text": [
      "scrapen  engels  web scraping  is een computertechniek waarbij software wordt gebruikt om informatie van webpagina s te extraheren en al dan niet te analyseren  meestal probeert de software een deel van het world wide web te onderzoeken via gebruik van het op codes gebaseerde hypertext transfer protocol  http  of door het surfgedrag met een webbrowser zoals mozilla firefox te simuleren \n"
     ]
    }
   ],
   "source": [
    "\n",
    "#https://docs.python.org/3/library/re.html\n",
    "#re.sub(pattern, replacement, string, count=0, flags=0)\n",
    "#re.sub(pattern_1 | pattern_2, replacement, string, count=0, flags=0)\n",
    "\n",
    "# Remove punctuation characters\n",
    "text = re.sub(r\"[^a-zA-Z0-9]\", \" \", text) \n",
    "print(text)"
   ]
  },
  {
   "cell_type": "code",
   "execution_count": 36,
   "id": "99575e0f",
   "metadata": {},
   "outputs": [
    {
     "data": {
      "text/plain": [
       "True"
      ]
     },
     "execution_count": 36,
     "metadata": {},
     "output_type": "execute_result"
    }
   ],
   "source": [
    "# chaining of methodes: je kunt methodes van strings achter elkaar zetten \n",
    "\n",
    "text_lijst = set(text.replace(\",\", \"\").replace(\".\", \" \").replace(\"\\\"\", \"\").lower().split(\" \"))\n",
    "'scrapen' in text_lijst\n"
   ]
  },
  {
   "cell_type": "markdown",
   "id": "0f849795",
   "metadata": {},
   "source": [
    "### Stap 2: Woorden tellen"
   ]
  },
  {
   "cell_type": "code",
   "execution_count": 165,
   "id": "e117b0e3",
   "metadata": {},
   "outputs": [
    {
     "name": "stdout",
     "output_type": "stream",
     "text": [
      "['scrapen', 'engels', 'web', 'scraping', 'is', 'een', 'computertechniek', 'waarbij', 'software', 'wordt', 'gebruikt', 'om', 'informatie', 'van', 'webpagina', 's', 'te', 'extraheren', 'al', 'dan', 'niet', 'te', 'analyseren', 'meestal', 'probeert', 'software', 'een', 'deel', 'van', 'world', 'wide', 'web', 'te', 'onderzoeken', 'via', 'gebruik', 'van', 'op', 'codes', 'gebaseerde', 'hypertext', 'transfer', 'protocol', 'http', 'of', 'door', 'surfgedrag', 'met', 'een', 'webbrowser', 'zoals', 'mozilla', 'firefox', 'te', 'simuleren']\n"
     ]
    }
   ],
   "source": [
    "#met for loop\n",
    "woordenlijst = []\n",
    "text=text.lower()\n",
    "woorden = re.sub(r\"[^a-zA-Z0-9]\", \" \", text).split()\n",
    "\n",
    "# schrijf een for loop waarin alle woorden in een lijst zet behalve stopwoorden en, de, het\n",
    "stopwoorden =['en', 'het', 'de']\n",
    "\n",
    "for w in woorden:\n",
    "    #print(w)\n",
    "    if w not in stopwoorden:\n",
    "        woordenlijst.append(w)\n",
    "\n",
    "print(woordenlijst)\n",
    "#woordenlijst"
   ]
  },
  {
   "cell_type": "code",
   "execution_count": 166,
   "id": "26e6521e",
   "metadata": {},
   "outputs": [],
   "source": [
    "#pythonic way\n",
    "woordenlijst= [w for w in woorden if w not in stopwoorden]\n",
    "#print(woordenlijst)"
   ]
  },
  {
   "cell_type": "code",
   "execution_count": 167,
   "id": "5d2fd0fe",
   "metadata": {},
   "outputs": [],
   "source": [
    "# schrijf een for loop waarin alle woorden in een dictionary zet in de form {'woord': 1}\n",
    "counts = dict()\n",
    "\n",
    "\n",
    "for w in woorden:\n",
    "        counts[w]=1\n",
    "#counts  "
   ]
  },
  {
   "cell_type": "code",
   "execution_count": 168,
   "id": "e4996731",
   "metadata": {},
   "outputs": [
    {
     "data": {
      "text/plain": [
       "{'scrapen': 1,\n",
       " 'engels': 1,\n",
       " 'web': 2,\n",
       " 'scraping': 1,\n",
       " 'is': 1,\n",
       " 'een': 3,\n",
       " 'computertechniek': 1,\n",
       " 'waarbij': 1,\n",
       " 'software': 2,\n",
       " 'wordt': 1,\n",
       " 'gebruikt': 1,\n",
       " 'om': 1,\n",
       " 'informatie': 1,\n",
       " 'van': 3,\n",
       " 'webpagina': 1,\n",
       " 's': 1,\n",
       " 'te': 4,\n",
       " 'extraheren': 1,\n",
       " 'al': 1,\n",
       " 'dan': 1,\n",
       " 'niet': 1,\n",
       " 'analyseren': 1,\n",
       " 'meestal': 1,\n",
       " 'probeert': 1,\n",
       " 'deel': 1,\n",
       " 'world': 1,\n",
       " 'wide': 1,\n",
       " 'onderzoeken': 1,\n",
       " 'via': 1,\n",
       " 'gebruik': 1,\n",
       " 'op': 1,\n",
       " 'codes': 1,\n",
       " 'gebaseerde': 1,\n",
       " 'hypertext': 1,\n",
       " 'transfer': 1,\n",
       " 'protocol': 1,\n",
       " 'http': 1,\n",
       " 'of': 1,\n",
       " 'door': 1,\n",
       " 'surfgedrag': 1,\n",
       " 'met': 1,\n",
       " 'webbrowser': 1,\n",
       " 'zoals': 1,\n",
       " 'mozilla': 1,\n",
       " 'firefox': 1,\n",
       " 'simuleren': 1}"
      ]
     },
     "execution_count": 168,
     "metadata": {},
     "output_type": "execute_result"
    }
   ],
   "source": [
    "# schrijf een for loop waarin alle woorden in een dictionary zet\n",
    "# met een aantal keer dat ze voorkomen\n",
    "counts = dict()\n",
    "\n",
    "\n",
    "for w in woordenlijst:\n",
    "        if w in counts:\n",
    "            counts[w] += 1\n",
    "        else:\n",
    "            counts[w] = 1\n",
    "counts           "
   ]
  },
  {
   "cell_type": "code",
   "execution_count": 169,
   "id": "87f7ab9e",
   "metadata": {},
   "outputs": [
    {
     "data": {
      "text/plain": [
       "{'scrapen': 1,\n",
       " 'engels': 1,\n",
       " 'web': 4,\n",
       " 'scraping': 1,\n",
       " 'is': 1,\n",
       " 'een': 3,\n",
       " 'computertechniek': 1,\n",
       " 'waarbij': 1,\n",
       " 'software': 2,\n",
       " 'wordt': 1,\n",
       " 'gebruikt': 1,\n",
       " 'om': 2,\n",
       " 'informatie': 1,\n",
       " 'van': 3,\n",
       " 'webpagina': 1,\n",
       " 's': 16,\n",
       " 'te': 7,\n",
       " 'extraheren': 1,\n",
       " 'al': 4,\n",
       " 'dan': 1,\n",
       " 'niet': 1,\n",
       " 'analyseren': 1,\n",
       " 'meestal': 1,\n",
       " 'probeert': 1,\n",
       " 'deel': 1,\n",
       " 'world': 1,\n",
       " 'wide': 1,\n",
       " 'onderzoeken': 1,\n",
       " 'via': 1,\n",
       " 'gebruik': 2,\n",
       " 'op': 1,\n",
       " 'codes': 1,\n",
       " 'gebaseerde': 1,\n",
       " 'hypertext': 1,\n",
       " 'transfer': 1,\n",
       " 'protocol': 1,\n",
       " 'http': 1,\n",
       " 'of': 3,\n",
       " 'door': 1,\n",
       " 'surfgedrag': 1,\n",
       " 'met': 1,\n",
       " 'webbrowser': 1,\n",
       " 'zoals': 1,\n",
       " 'mozilla': 1,\n",
       " 'firefox': 1,\n",
       " 'simuleren': 1}"
      ]
     },
     "execution_count": 169,
     "metadata": {},
     "output_type": "execute_result"
    }
   ],
   "source": [
    "# het kan ook met de count methode\n",
    "# The syntax of count() method is: string.count(substring, start=..., end=...)\n",
    "counts = dict()\n",
    "for w in woordenlijst:\n",
    "    counts[w] = text.count(w)\n",
    "counts"
   ]
  },
  {
   "cell_type": "code",
   "execution_count": 170,
   "id": "74a6a083",
   "metadata": {},
   "outputs": [],
   "source": [
    "#pythonic comprehension\n",
    "counts2=dict({(w,text.count(w)) for w in woorden})"
   ]
  },
  {
   "cell_type": "code",
   "execution_count": 171,
   "id": "becdcc9c",
   "metadata": {},
   "outputs": [
    {
     "data": {
      "text/plain": [
       "dict_keys(['computertechniek', 'is', 'protocol', 'web', 'firefox', 'webpagina', 'probeert', 's', 'zoals', 'meestal', 'wide', 'surfgedrag', 'te', 'gebruikt', 'het', 'webbrowser', 'http', 'mozilla', 'de', 'wordt', 'gebaseerde', 'met', 'via', 'gebruik', 'om', 'scraping', 'een', 'software', 'extraheren', 'dan', 'hypertext', 'world', 'waarbij', 'niet', 'onderzoeken', 'transfer', 'door', 'engels', 'van', 'scrapen', 'codes', 'informatie', 'op', 'al', 'simuleren', 'en', 'analyseren', 'deel', 'of'])"
      ]
     },
     "execution_count": 171,
     "metadata": {},
     "output_type": "execute_result"
    }
   ],
   "source": [
    "counts2.keys() #levert een dict met een lijst van termen\n",
    "counts2.values() # levert lijst van counts\n",
    "\n",
    "\n",
    "counts2.keys()"
   ]
  },
  {
   "cell_type": "code",
   "execution_count": 172,
   "id": "4942b098",
   "metadata": {},
   "outputs": [],
   "source": [
    "# van dictionary naar lijst converteren:\n",
    "#list(counts2)"
   ]
  },
  {
   "cell_type": "markdown",
   "id": "38a2035f",
   "metadata": {},
   "source": [
    "### Stap 3: functie samenstellen"
   ]
  },
  {
   "cell_type": "code",
   "execution_count": 173,
   "id": "7b573c18",
   "metadata": {},
   "outputs": [],
   "source": [
    "#maak een functie die een tekst bewerkt en een dictionary returneert met de meeste frequente woorden\n",
    "\n",
    "stopwoorden =['en', 'het', 'de', 'van', 'of', 'te', 'om', 'een']\n",
    "def woordenteller(text, stopwoorden):\n",
    "    \"\"\"\n",
    "    Telt woorden in een tekst\n",
    "    Params:\n",
    "    text: str brontekst\n",
    "    stopwoorden: list woordenlijst die niet geteld hoeven te woorden\n",
    "    \n",
    "    \"\"\"\n",
    "    # Convert naar kleine letters\n",
    "    text= text.lower()\n",
    "    # verwijder alles wat niet letters en nummers is\n",
    "    # apostroof is in de regex toegevoegd, wegens woorden zoals pagina's\n",
    "    woorden = re.sub(r\"[^a-zA-Z0-9']\", \" \", text)\n",
    "    #print(woorden.split())\n",
    "    counts=dict({(w,text.count(w)) for w in woorden.split() if w not in stopwoorden})\n",
    "    sorted_dict = {}\n",
    "    sorted_keys = sorted(counts, key=counts.get, reverse=True)  # reverse = hoogste eerst\n",
    "    #sort\n",
    "    for w in sorted_keys:\n",
    "        sorted_dict[w] = counts[w]\n",
    "    return sorted_dict"
   ]
  },
  {
   "cell_type": "code",
   "execution_count": 174,
   "id": "f798cc78",
   "metadata": {},
   "outputs": [],
   "source": [
    "# met sorted method eerst keys en daarna values\n",
    "# sorted(iterable, key=key, reverse=reverse)\n",
    "sorted_dict = {}\n",
    "sorted_keys = sorted(counts2, key=counts2.get, reverse=True)  # reverse = hoogste eerst\n",
    "\n",
    "for w in sorted_keys:\n",
    "    sorted_dict[w] = counts2[w]\n",
    "\n",
    "#sorted_dict"
   ]
  },
  {
   "cell_type": "code",
   "execution_count": 175,
   "id": "9e5dc051",
   "metadata": {},
   "outputs": [
    {
     "data": {
      "text/plain": [
       "\"Scrapen (Engels: web scraping) is een computertechniek waarbij software wordt gebruikt om informatie van webpagina's te extraheren en al dan niet te analyseren. Meestal probeert de software een deel van het world wide web te onderzoeken via gebruik van het op codes gebaseerde Hypertext Transfer Protocol (HTTP), of door het surfgedrag met een webbrowser zoals Mozilla Firefox te simuleren.\""
      ]
     },
     "execution_count": 175,
     "metadata": {},
     "output_type": "execute_result"
    }
   ],
   "source": [
    "test =\"Scrapen (Engels: web scraping) is een computertechniek waarbij software wordt gebruikt om informatie van webpagina's te extraheren en al dan niet te analyseren. Meestal probeert de software een deel van het world wide web te onderzoeken via gebruik van het op codes gebaseerde Hypertext Transfer Protocol (HTTP), of door het surfgedrag met een webbrowser zoals Mozilla Firefox te simuleren.\"\n",
    "test"
   ]
  },
  {
   "cell_type": "code",
   "execution_count": 176,
   "id": "6bdd4b9a",
   "metadata": {},
   "outputs": [
    {
     "data": {
      "text/plain": [
       "{'web': 4,\n",
       " 'al': 4,\n",
       " 'gebruik': 2,\n",
       " 'software': 2,\n",
       " 'computertechniek': 1,\n",
       " 'is': 1,\n",
       " 'protocol': 1,\n",
       " 'firefox': 1,\n",
       " 'probeert': 1,\n",
       " 'zoals': 1,\n",
       " 'meestal': 1,\n",
       " 'wide': 1,\n",
       " 'surfgedrag': 1,\n",
       " 'gebruikt': 1,\n",
       " 'webbrowser': 1,\n",
       " 'http': 1,\n",
       " 'mozilla': 1,\n",
       " 'wordt': 1,\n",
       " 'gebaseerde': 1,\n",
       " 'met': 1,\n",
       " 'via': 1,\n",
       " 'scraping': 1,\n",
       " 'extraheren': 1,\n",
       " 'hypertext': 1,\n",
       " 'dan': 1,\n",
       " \"webpagina's\": 1,\n",
       " 'world': 1,\n",
       " 'waarbij': 1,\n",
       " 'niet': 1,\n",
       " 'onderzoeken': 1,\n",
       " 'transfer': 1,\n",
       " 'door': 1,\n",
       " 'engels': 1,\n",
       " 'scrapen': 1,\n",
       " 'codes': 1,\n",
       " 'informatie': 1,\n",
       " 'op': 1,\n",
       " 'simuleren': 1,\n",
       " 'analyseren': 1,\n",
       " 'deel': 1}"
      ]
     },
     "execution_count": 176,
     "metadata": {},
     "output_type": "execute_result"
    }
   ],
   "source": [
    "#test je functie\n",
    "resultaat=dict()\n",
    "resultaat=woordenteller(test, stopwoorden)\n",
    "resultaat"
   ]
  },
  {
   "cell_type": "markdown",
   "id": "89bce437",
   "metadata": {},
   "source": [
    "### Extra: welke woorden komen in deze tekst het vaakst voor?"
   ]
  },
  {
   "cell_type": "code",
   "execution_count": 177,
   "id": "990bceb9",
   "metadata": {},
   "outputs": [
    {
     "data": {
      "text/plain": [
       "{'web': 4, 'al': 4, 'gebruik': 2, 'software': 2}"
      ]
     },
     "execution_count": 177,
     "metadata": {},
     "output_type": "execute_result"
    }
   ],
   "source": [
    "# meest frequente zoektermen (meer dan 2 keer)\n",
    "meest_frequent=dict()\n",
    "for (key, value) in resultaat.items():\n",
    "    if value >= 2:\n",
    "        meest_frequent[key]=value\n",
    "\n",
    "#compacte versie:\n",
    "#meest_frequent = {key:value for (key, value) in counts2.items() if value >= 2}\n",
    "meest_frequent"
   ]
  },
  {
   "cell_type": "code",
   "execution_count": null,
   "id": "1903f96d",
   "metadata": {},
   "outputs": [],
   "source": []
  },
  {
   "cell_type": "code",
   "execution_count": null,
   "id": "89891dce",
   "metadata": {},
   "outputs": [],
   "source": []
  },
  {
   "cell_type": "code",
   "execution_count": null,
   "id": "16308ca7",
   "metadata": {},
   "outputs": [],
   "source": []
  }
 ],
 "metadata": {
  "kernelspec": {
   "display_name": "Python 3 (ipykernel)",
   "language": "python",
   "name": "python3"
  },
  "language_info": {
   "codemirror_mode": {
    "name": "ipython",
    "version": 3
   },
   "file_extension": ".py",
   "mimetype": "text/x-python",
   "name": "python",
   "nbconvert_exporter": "python",
   "pygments_lexer": "ipython3",
   "version": "3.10.8"
  }
 },
 "nbformat": 4,
 "nbformat_minor": 5
}
