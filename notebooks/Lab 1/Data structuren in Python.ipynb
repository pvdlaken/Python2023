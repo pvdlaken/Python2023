{
 "cells": [
  {
   "cell_type": "markdown",
   "id": "43243797",
   "metadata": {},
   "source": [
    "# Datastructuren"
   ]
  },
  {
   "cell_type": "markdown",
   "id": "08d1f28c",
   "metadata": {},
   "source": [
    "Docs: https://docs.python.org/3/tutorial/datastructures.html\n",
    "\n",
    "Even kort een aantal datastructuren op een rij:"
   ]
  },
  {
   "cell_type": "markdown",
   "id": "907b838d",
   "metadata": {},
   "source": [
    "## Lists"
   ]
  },
  {
   "cell_type": "code",
   "execution_count": null,
   "id": "97db714c",
   "metadata": {},
   "outputs": [],
   "source": [
    "fruits=[]\n",
    "fruits = ['orange', 'apple', 'pear', 'banana', 'kiwi', 'apple', 'banana']\n",
    "fruits.count('apple')"
   ]
  },
  {
   "cell_type": "code",
   "execution_count": null,
   "id": "ef66eca8",
   "metadata": {},
   "outputs": [],
   "source": [
    "fruits.append('apple')\n",
    "fruits.count('apple')"
   ]
  },
  {
   "cell_type": "code",
   "execution_count": null,
   "id": "c18bbea8",
   "metadata": {},
   "outputs": [],
   "source": [
    "fruits.pop()"
   ]
  },
  {
   "cell_type": "code",
   "execution_count": null,
   "id": "b5629434",
   "metadata": {},
   "outputs": [],
   "source": [
    "fruits.index(\"apple\")"
   ]
  },
  {
   "cell_type": "code",
   "execution_count": null,
   "id": "a9c5611e",
   "metadata": {},
   "outputs": [],
   "source": [
    "fruits.reverse()"
   ]
  },
  {
   "cell_type": "code",
   "execution_count": null,
   "id": "cc61c7a9",
   "metadata": {},
   "outputs": [],
   "source": [
    "print(fruits)"
   ]
  },
  {
   "cell_type": "code",
   "execution_count": null,
   "id": "6116fe99",
   "metadata": {},
   "outputs": [],
   "source": [
    "fruits.sort()\n",
    "print(fruits)"
   ]
  },
  {
   "cell_type": "code",
   "execution_count": null,
   "id": "a12c85e7",
   "metadata": {},
   "outputs": [],
   "source": [
    "#list comprehension\n",
    "freshfruit = ['  banana', '  loganberry ', 'passion fruit  ']\n",
    "freshfruit2=[]\n",
    "\n",
    "for f in freshfruit:\n",
    "    freshfruit2.append(f.strip())\n",
    "\n",
    "freshfruit2"
   ]
  },
  {
   "cell_type": "code",
   "execution_count": null,
   "id": "aba47319",
   "metadata": {},
   "outputs": [],
   "source": [
    "[f.strip() for f in freshfruit]\n",
    "#let op freshfruit is niet veranderd!"
   ]
  },
  {
   "cell_type": "code",
   "execution_count": null,
   "id": "cafff9a9",
   "metadata": {},
   "outputs": [],
   "source": [
    "for i, v in enumerate(freshfruit):\n",
    "    print(i, v)"
   ]
  },
  {
   "cell_type": "code",
   "execution_count": null,
   "id": "31dfb83f",
   "metadata": {},
   "outputs": [],
   "source": [
    "for f in reversed(freshfruit):\n",
    "    print(f.strip())"
   ]
  },
  {
   "cell_type": "code",
   "execution_count": null,
   "id": "05c4c9dc",
   "metadata": {},
   "outputs": [],
   "source": [
    "list1=['a', 'b', 'c']\n",
    "list2=['e', 'f', 'g']\n",
    "samen= list1+list2\n",
    "samen"
   ]
  },
  {
   "cell_type": "code",
   "execution_count": null,
   "id": "e2696cb4",
   "metadata": {},
   "outputs": [],
   "source": [
    "#['a', 'b', 'c', '2', '4', '6']\n",
    "#[ 0    1    2    3    4    5 ] index\n",
    "\n",
    "#samen[:3] # ['a', 'b', 'c'] eerste 3 (0 t/m 2)\n",
    "#samen[3:] # ['e', 'f', 'g'] vanaf 3 \n",
    "#samen[2:3] # ['c'] van index 2 tot index 3 (levert een [] !)\n",
    "samen[-4] #  'c' laatste 4 elementen"
   ]
  },
  {
   "cell_type": "code",
   "execution_count": null,
   "id": "66eedd90",
   "metadata": {},
   "outputs": [],
   "source": [
    "samen.remove('a')\n",
    "samen"
   ]
  },
  {
   "cell_type": "markdown",
   "id": "472aed4a",
   "metadata": {},
   "source": [
    "### Strings en lijsten"
   ]
  },
  {
   "cell_type": "code",
   "execution_count": null,
   "id": "57754c84",
   "metadata": {},
   "outputs": [],
   "source": [
    "#Eenstring is een lijs met karakters:\n",
    "s='het is mooi'\n",
    "s[0] # 'h'\n",
    "s[1] # 'e'\n",
    "s[-1]# 'i' laatste i\n",
    "\n",
    "#Dus in stukjes:\n",
    "s[0:3] # het eerste 3\n",
    "s[:6]  # 'het is'  eerste 6\n",
    "s[-4:] # 'mooi' laatste 4\n",
    "\n",
    "#of misschien handig:\n",
    "stukjes = s.split(\" \") #['het', 'is', 'mooi']\n",
    "\n",
    "#en joinen:\n",
    "\"python \"+\" \".join(stukjes[1:])\n"
   ]
  },
  {
   "cell_type": "markdown",
   "id": "b8773b71",
   "metadata": {},
   "source": [
    "## Sets"
   ]
  },
  {
   "cell_type": "code",
   "execution_count": null,
   "id": "a24a2496",
   "metadata": {},
   "outputs": [],
   "source": [
    "fruits=[]\n",
    "fruits = ['orange', 'apple', 'pear', 'banana', 'kiwi', 'apple', 'banana']"
   ]
  },
  {
   "cell_type": "code",
   "execution_count": null,
   "id": "7089b6a2",
   "metadata": {},
   "outputs": [],
   "source": [
    "# verwijdert dubbelen\n",
    "fruits2=set(fruits)\n",
    "fruits2"
   ]
  },
  {
   "cell_type": "code",
   "execution_count": null,
   "id": "d6090d58",
   "metadata": {},
   "outputs": [],
   "source": [
    "# voegt alleen unieke elementen\n",
    "fruits2.add('apple')\n",
    "fruits2"
   ]
  },
  {
   "cell_type": "code",
   "execution_count": null,
   "id": "54d3a27f",
   "metadata": {},
   "outputs": [],
   "source": [
    "fruits2.add('ananas')\n",
    "fruits2"
   ]
  },
  {
   "cell_type": "code",
   "execution_count": null,
   "id": "78cf2dce",
   "metadata": {},
   "outputs": [],
   "source": [
    "fruits2.remove('apple')\n",
    "fruits2"
   ]
  },
  {
   "cell_type": "markdown",
   "id": "313cf8ee",
   "metadata": {},
   "source": [
    "## Dictionary"
   ]
  },
  {
   "cell_type": "code",
   "execution_count": null,
   "id": "cd87e441",
   "metadata": {},
   "outputs": [],
   "source": [
    "pers = {'jack': 30, 'paul': 44}\n",
    "pers['guido'] = 41\n",
    "pers"
   ]
  },
  {
   "cell_type": "code",
   "execution_count": null,
   "id": "447c577e",
   "metadata": {},
   "outputs": [],
   "source": [
    "# wijzen om een dictionary te creeren\n",
    "dict([('jack', 30), ('guido', 42), ('paul', 45)])\n",
    "dict(jack=30, guido=43, paul=45)"
   ]
  },
  {
   "cell_type": "code",
   "execution_count": null,
   "id": "b36887bc",
   "metadata": {},
   "outputs": [],
   "source": [
    "#element toevoegen 1\n",
    "pers['guido'] = 42\n",
    "pers"
   ]
  },
  {
   "cell_type": "code",
   "execution_count": null,
   "id": "d195a18b",
   "metadata": {},
   "outputs": [],
   "source": [
    "#element toevoegen 2\n",
    "pers.update({'mark':66})\n",
    "pers"
   ]
  },
  {
   "cell_type": "code",
   "execution_count": null,
   "id": "2851f600",
   "metadata": {},
   "outputs": [],
   "source": [
    "#element update met meer elementen\n",
    "pers.update({'mark':55, 'isa':22})\n",
    "pers"
   ]
  },
  {
   "cell_type": "code",
   "execution_count": null,
   "id": "6145f222",
   "metadata": {},
   "outputs": [],
   "source": [
    "# samenvoegen van twee dictionaries\n",
    "d1= dict(a=2, b=6, c=9)\n",
    "d2 = dict(d=7, e=10)\n",
    "d3 = d1 | d2\n",
    "d3"
   ]
  },
  {
   "cell_type": "code",
   "execution_count": null,
   "id": "ef7fed86",
   "metadata": {},
   "outputs": [],
   "source": [
    "pers.keys()\n",
    "list(pers)"
   ]
  },
  {
   "cell_type": "code",
   "execution_count": null,
   "id": "27ff8763",
   "metadata": {},
   "outputs": [],
   "source": [
    "sorted(pers)"
   ]
  },
  {
   "cell_type": "code",
   "execution_count": null,
   "id": "b5b5b743",
   "metadata": {},
   "outputs": [],
   "source": [
    "pers.values()"
   ]
  },
  {
   "cell_type": "code",
   "execution_count": null,
   "id": "9b0e1c1f",
   "metadata": {},
   "outputs": [],
   "source": [
    "#for loop\n",
    "for key,value in pers.items():\n",
    "    print(key,value)\n"
   ]
  },
  {
   "cell_type": "markdown",
   "id": "dfedb4c8",
   "metadata": {},
   "source": [
    "### Overige notities"
   ]
  },
  {
   "cell_type": "code",
   "execution_count": null,
   "id": "f430a1db",
   "metadata": {},
   "outputs": [],
   "source": [
    "# r voor een string: raw string, backlash is literal\n",
    "s = r\"Hello\\tfrom TutorialsPoint\\nHi\" \n",
    "print(s)\n",
    "s2 = \"Hello\\tfrom TutorialsPoint\\nHi\" \n",
    "print(s2)"
   ]
  }
 ],
 "metadata": {
  "kernelspec": {
   "display_name": "Python 3 (ipykernel)",
   "language": "python",
   "name": "python3"
  },
  "language_info": {
   "codemirror_mode": {
    "name": "ipython",
    "version": 3
   },
   "file_extension": ".py",
   "mimetype": "text/x-python",
   "name": "python",
   "nbconvert_exporter": "python",
   "pygments_lexer": "ipython3",
   "version": "3.10.8"
  }
 },
 "nbformat": 4,
 "nbformat_minor": 5
}
